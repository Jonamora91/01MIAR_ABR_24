{
 "cells": [
  {
   "cell_type": "markdown",
   "id": "a2eea98a-4a8d-47fd-9bbf-19fa4c134d1e",
   "metadata": {
    "tags": []
   },
   "source": [
    "## Actividad 01\n",
    "\n",
    "- Crear una lista con números que comiencen por 30 y que termine en 42 haciendo que el paso entre cada número consecutivo sea de 0.4. Sin usar Numpy."
   ]
  },
  {
   "cell_type": "code",
   "execution_count": 4,
   "id": "d85c47ce-eaff-4caa-856f-0c43eafe9e72",
   "metadata": {
    "tags": []
   },
   "outputs": [
    {
     "name": "stdout",
     "output_type": "stream",
     "text": [
      "[30, 30.4, 30.8, 31.2, 31.6, 32.0, 32.4, 32.8, 33.2, 33.6, 34.0, 34.4, 34.8]\n"
     ]
    }
   ],
   "source": [
    "# Your Solution Here!!!\n",
    "valorInicial = 30\n",
    "lista = []\n",
    "for i in range(valorInicial,43):\n",
    "    lista.append(round(valorInicial,2))\n",
    "    valorInicial +=0.4\n",
    "\n",
    "print(lista)"
   ]
  },
  {
   "cell_type": "markdown",
   "id": "3ca8b783-fb88-4eb7-8379-3aae550d15b4",
   "metadata": {},
   "source": [
    "## Actividad 02\n",
    "\n",
    "- Dataset -> https://raw.githubusercontent.com/grammakov/USA-cities-and-states/master/us_cities_states_counties.csv\n",
    "- Header -> City|State short|State full|County|City alias\n",
    "- Obtener el número de ciudades que tiene el estado de Florida, usando dicho Dataset\n",
    "- Sin usar Pandas"
   ]
  },
  {
   "cell_type": "code",
   "execution_count": 1,
   "id": "e9fcaff1-f4c8-44b6-bf84-826558901a2f",
   "metadata": {
    "tags": []
   },
   "outputs": [],
   "source": [
    "import urllib\n",
    "import csv\n",
    "import os\n",
    "\n",
    "url = \"https://raw.githubusercontent.com/grammakov/USA-cities-and-states/master/us_cities_states_counties.csv\"\n",
    "\n",
    "# Devuelve un fichero desde una url como cadena de caracteres\n",
    "def read_url(url):\n",
    "    return urllib.request.urlopen(url).read().decode('utf-8')\n",
    "\n",
    "# Descargar un fichero desde una url a una ruta local\n",
    "def download_file(url, dest):\n",
    "    urllib.request.urlretrieve(url, dest)\n",
    "    return\n",
    "\n",
    "ruta_actual = os.getcwd()\n",
    "ruta_completa = os.path.join(ruta_actual, \"cities_country.csv\")\n",
    "download_file(url,ruta_completa)\n",
    "\n",
    "with open(ruta_completa) as fichero:\n",
    "    data_reader = csv.reader(fichero, delimiter='|')\n",
    "    for linea in data_reader:\n",
    "        if linea[1] == 'Florida':\n",
    "            print(linea[0] + '  ----  ' + linea[1])"
   ]
  },
  {
   "cell_type": "code",
   "execution_count": null,
   "id": "168f097e-9311-4e2a-88ab-bf8c6242b7ca",
   "metadata": {
    "tags": []
   },
   "outputs": [],
   "source": [
    "# Your Solution Here!!!"
   ]
  }
 ],
 "metadata": {
  "kernelspec": {
   "display_name": "Python 3 (ipykernel)",
   "language": "python",
   "name": "python3"
  },
  "language_info": {
   "codemirror_mode": {
    "name": "ipython",
    "version": 3
   },
   "file_extension": ".py",
   "mimetype": "text/x-python",
   "name": "python",
   "nbconvert_exporter": "python",
   "pygments_lexer": "ipython3",
   "version": "3.11.9"
  }
 },
 "nbformat": 4,
 "nbformat_minor": 5
}
